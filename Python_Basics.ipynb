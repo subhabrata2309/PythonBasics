{
  "nbformat": 4,
  "nbformat_minor": 0,
  "metadata": {
    "colab": {
      "provenance": []
    },
    "kernelspec": {
      "name": "python3",
      "display_name": "Python 3"
    },
    "language_info": {
      "name": "python"
    }
  },
  "cells": [
    {
      "cell_type": "markdown",
      "source": [
        "Python Basics"
      ],
      "metadata": {
        "id": "V3GsFXlIx6Mi"
      }
    },
    {
      "cell_type": "code",
      "source": [],
      "metadata": {
        "id": "mkk8akD4x9G8"
      },
      "execution_count": null,
      "outputs": []
    },
    {
      "cell_type": "markdown",
      "source": [
        " 1) What is Python and why is it popular?\n",
        "\n",
        "    Python is a high-level, multipurpose, object-oriented programming language known for its simplicity and readability.\n",
        "    It is popular because\n",
        "    -> It is easy to learn and easy to use\n",
        "    -> Lots of Libraries available for multiple purposes\n",
        "    -> Versatile — used in web development, data analysis, machine learning, automation, and more\n",
        "    -> Strong community support\n",
        "    -> Compatible with other languages and tools\n",
        "\n",
        "\n",
        " 2) What is an interpreter in Python?\n",
        "\n",
        "    A Python interpreter is a program that executes Python code by converting it from high-level language (human-readable) to machine code that the computer can understand. It reads and executes the code line by line.\n",
        "\n",
        "\n",
        " 3) What are pre-defined keywords in Python?\n",
        "\n",
        "    Pre-defined keywords are reserved words in Python that have special meanings and purposes defined by the language and they should not be used as a variable name.\n",
        "    Examples: if, else, elif, print, def, while, for, etc.\n",
        "\n",
        "\n",
        " 4) Can keywords be used as variable names?\n",
        "\n",
        "    No, keywords should not be used as variable names.\n",
        "    They are reserved for specific language functions.\n",
        "\n",
        "\n",
        " 5) What is mutability in Python?\n",
        "\n",
        "    Mutability refers to the ability of an object to change its value or state after creation.\n",
        "    •\tMutable objects: Can be changed (e.g., list, dict, set)\n",
        "\n",
        " 6) Why are lists mutable and tuples immutable?\n",
        "\n",
        "    •\tLists are mutable because their contents can be modified after creation  (eg., adding, removing, or updating elements).\n",
        "    •\tTuples are immutable because once defined, their values cannot be altered.\n",
        "\n",
        "\n",
        " 7) What is the difference between == and is operators in Python?\n",
        "\n",
        "    •\t== compares values of two objects.\n",
        "    •\tis compares whether two variables points to the same memory location or not (i.e., same object).\n",
        "    x = [1, 2]\n",
        "    y = [1, 2]\n",
        "    print(x == y)  # True — values are equal\n",
        "    print(x is y)  # False — different objects in memory\n",
        "\n",
        " 8)What are logical operators in Python?\n",
        "\n",
        "    Logical operators are used to perform any sort of logical operations in our program.\n",
        "    Python provides three logical operators:\n",
        "    •\tand – returns True if both conditions are true\n",
        "    •\tor – returns True if at least one condition is true\n",
        "    •\tnot – reverses the logical state of its operand\n",
        "\n",
        " 9) What is type casting in Python?\n",
        "\n",
        "    Type casting in Python refers to converting a variable from one data type to another data type\n",
        "\n",
        " 10) What is the difference between implicit and explicit type casting?\n",
        "\n",
        "    •\tImplicit Type Casting: The Python interpreter automatically converts one data type to another when needed, without user intervention.\n",
        "    Example:\n",
        "    a = 5        # int  \n",
        "    b = 20.5     # float  \n",
        "    a= a + b    # a is implicitly converted to float  \n",
        "    print(a)     # Output: 25.5  \n",
        "    •\tExplicit Type Casting: The user manually converts one data type to another using functions like int(), float(), str(), list(), etc.\n",
        "    Example:\n",
        "    s = \"12\"\n",
        "    num = int(s)  # Converts string to integer\n",
        "\n",
        "\n",
        " 11) What is the purpose of conditional statements in Python?\n",
        "\n",
        "    Conditional statements in Python are used to execute specific blocks of code based on certain conditions. They allow the program to make decisions during execution.\n",
        "    Common conditional statements include:\n",
        "    •\tif\n",
        "    •\telif\n",
        "    •\telse\n",
        "    •\tif-elif-else ladder\n",
        "    Example:\n",
        "    x = 10\n",
        "    if x > 0:\n",
        "        print(\"Positive number\")\n",
        "    elif x == 0:\n",
        "        print(\"Zero\")\n",
        "    else:\n",
        "        print(\"Negative number\")\n",
        "\n",
        " 12) How does the elif statement work?\n",
        "\n",
        "    The elif (short for \"else if\") statement allows us to check multiple conditions.\n",
        "    •\tThe program first evaluates the if condition.\n",
        "    •\tIf the if condition is false, it checks the elif conditions one by one from top to bottom.\n",
        "    •\tAs soon as one elif condition is true, its block is executed, and the remaining elif or else blocks are skipped.\n",
        "    Example:\n",
        "    x = 20\n",
        "    if x < 10:\n",
        "        print(\"Less than 10\")\n",
        "    elif x < 30:\n",
        "        print(\"Less than 30\")  # This will be printed\n",
        "    elif x < 50:\n",
        "        print(\"Less than 50\")\n",
        "    else:\n",
        "        print(\"50 or more\")\n",
        "\n",
        " 13) What is the difference between for and while loops in Python?\n",
        "\n",
        "    For loop: used when the number of iteration is known, can not be used when the number of iteration is not known.\n",
        "    while loop: used when a certain condition has to be met, can be used when the number of iteration is not known, just have to know a condition which when met the loop will stop\n",
        "\n",
        "\n",
        " 14) Describe a scenario where a while loop is more suitable than a for loop\n",
        "\n",
        "    while loop is preferred over for loop when the number of iteration is not known, example guessing a number. Using while loop we can break the loop when the right number is guessed, but since we do not know how many guesses it would require we can not use for loop\n",
        "\n",
        "\n",
        "\n"
      ],
      "metadata": {
        "id": "PwAsVUIuyApM"
      }
    },
    {
      "cell_type": "markdown",
      "source": [],
      "metadata": {
        "id": "EIvag3QwyJl_"
      }
    },
    {
      "cell_type": "code",
      "source": [
        "#1 Write a Python program to print \"Hello, World!\"\n",
        "print(\"Hello, World!\")"
      ],
      "metadata": {
        "colab": {
          "base_uri": "https://localhost:8080/"
        },
        "id": "mkTH_QTC2F88",
        "outputId": "ceebf8ef-4753-40d0-dd09-a9a32bdc3e0e"
      },
      "execution_count": 1,
      "outputs": [
        {
          "output_type": "stream",
          "name": "stdout",
          "text": [
            "Hello, World!\n"
          ]
        }
      ]
    },
    {
      "cell_type": "code",
      "source": [
        "# 2 Write a Python program that displays your name and age\n",
        "name = \"Subhabrata Mukherjee\"\n",
        "age= \"23\"\n",
        "print(f\"{name} {age}\")"
      ],
      "metadata": {
        "colab": {
          "base_uri": "https://localhost:8080/"
        },
        "id": "OER2LZDv2Taw",
        "outputId": "c08424cf-8d02-4263-c324-4ff679d8d6a2"
      },
      "execution_count": 3,
      "outputs": [
        {
          "output_type": "stream",
          "name": "stdout",
          "text": [
            "Subhabrata Mukherjee 23\n"
          ]
        }
      ]
    },
    {
      "cell_type": "code",
      "source": [
        "# 3 Write code to print all the pre-defined keywords in Python using the keyword library\n",
        "help('keywords')"
      ],
      "metadata": {
        "colab": {
          "base_uri": "https://localhost:8080/"
        },
        "id": "UUxsfblL2cAo",
        "outputId": "7f87ae15-0422-462a-fbac-d4ce972ec951"
      },
      "execution_count": 6,
      "outputs": [
        {
          "output_type": "stream",
          "name": "stdout",
          "text": [
            "\n",
            "Here is a list of the Python keywords.  Enter any keyword to get more help.\n",
            "\n",
            "False               class               from                or\n",
            "None                continue            global              pass\n",
            "True                def                 if                  raise\n",
            "and                 del                 import              return\n",
            "as                  elif                in                  try\n",
            "assert              else                is                  while\n",
            "async               except              lambda              with\n",
            "await               finally             nonlocal            yield\n",
            "break               for                 not                 \n",
            "\n"
          ]
        }
      ]
    },
    {
      "cell_type": "code",
      "source": [
        "#4 Write a program that checks if a given word is a Python keyword\n",
        "import keyword\n",
        "x = keyword.kwlist\n",
        "\n",
        "inp = input(\"Enter \")\n",
        "if inp in x:\n",
        "  print(\"Is Keyword \")\n",
        "else:\n",
        "  print(\"Not Keyword \")\n"
      ],
      "metadata": {
        "colab": {
          "base_uri": "https://localhost:8080/"
        },
        "id": "6Gh3PSLk3NDg",
        "outputId": "df1df9cb-ee82-42b9-dd2b-037bac24dde1"
      },
      "execution_count": 17,
      "outputs": [
        {
          "output_type": "stream",
          "name": "stdout",
          "text": [
            "Enter if\n",
            "Is Keyword \n"
          ]
        }
      ]
    },
    {
      "cell_type": "code",
      "source": [
        "# 5 Create a list and tuple in Python, and demonstrate how attempting to change an element works differently for each\n",
        "lis = [1,2,4,5,6]\n",
        "tup = (7,54,23)\n",
        "lis[2]= 3\n",
        "print(lis)\n",
        "tup[1] = 8"
      ],
      "metadata": {
        "colab": {
          "base_uri": "https://localhost:8080/",
          "height": 200
        },
        "id": "tfXIwvtF3-IW",
        "outputId": "cdf52294-e7d4-4a76-d710-714a59bb426e"
      },
      "execution_count": 19,
      "outputs": [
        {
          "output_type": "stream",
          "name": "stdout",
          "text": [
            "[1, 2, 3, 5, 6]\n"
          ]
        },
        {
          "output_type": "error",
          "ename": "TypeError",
          "evalue": "'tuple' object does not support item assignment",
          "traceback": [
            "\u001b[0;31m---------------------------------------------------------------------------\u001b[0m",
            "\u001b[0;31mTypeError\u001b[0m                                 Traceback (most recent call last)",
            "\u001b[0;32m<ipython-input-19-2b092af288ae>\u001b[0m in \u001b[0;36m<cell line: 0>\u001b[0;34m()\u001b[0m\n\u001b[1;32m      3\u001b[0m \u001b[0mlis\u001b[0m\u001b[0;34m[\u001b[0m\u001b[0;36m2\u001b[0m\u001b[0;34m]\u001b[0m\u001b[0;34m=\u001b[0m \u001b[0;36m3\u001b[0m\u001b[0;34m\u001b[0m\u001b[0;34m\u001b[0m\u001b[0m\n\u001b[1;32m      4\u001b[0m \u001b[0mprint\u001b[0m\u001b[0;34m(\u001b[0m\u001b[0mlis\u001b[0m\u001b[0;34m)\u001b[0m\u001b[0;34m\u001b[0m\u001b[0;34m\u001b[0m\u001b[0m\n\u001b[0;32m----> 5\u001b[0;31m \u001b[0mtup\u001b[0m\u001b[0;34m[\u001b[0m\u001b[0;36m1\u001b[0m\u001b[0;34m]\u001b[0m \u001b[0;34m=\u001b[0m \u001b[0;36m8\u001b[0m\u001b[0;34m\u001b[0m\u001b[0;34m\u001b[0m\u001b[0m\n\u001b[0m",
            "\u001b[0;31mTypeError\u001b[0m: 'tuple' object does not support item assignment"
          ]
        }
      ]
    },
    {
      "cell_type": "code",
      "source": [
        "#6 Write a function to demonstrate the behavior of mutable and immutable arguments.\n",
        "\n",
        "def modify_arguments(a, b):\n",
        "    a = a + 10\n",
        "    print(\"Inside function (immutable): a =\", a)\n",
        "    b.append(100)\n",
        "    print(\"Inside function (mutable): b =\", b)\n",
        "x = 5\n",
        "y = [1, 2, 3]\n",
        "modify_arguments(x, y)\n",
        "print(\"Outside function: x =\", x)\n",
        "print(\"Outside function: y =\", y)"
      ],
      "metadata": {
        "colab": {
          "base_uri": "https://localhost:8080/"
        },
        "id": "fF4eP4fC4jTF",
        "outputId": "56158d1e-6bbe-407d-ae09-4b6d506abab4"
      },
      "execution_count": 44,
      "outputs": [
        {
          "output_type": "stream",
          "name": "stdout",
          "text": [
            "Inside function (immutable): a = 15\n",
            "Inside function (mutable): b = [1, 2, 3, 100]\n",
            "Outside function: x = 5\n",
            "Outside function: y = [1, 2, 3, 100]\n"
          ]
        }
      ]
    },
    {
      "cell_type": "code",
      "source": [
        "#7 Write a program that performs basic arithmetic operations on two user-input numbers\n",
        "n1= int(input(\"Enter the number 1 \"))\n",
        "n2= int(input(\"Enter the number 2 \"))\n",
        "s= n1+n2\n",
        "m= n1-n2\n",
        "mul= n1 *n2\n",
        "d= n1/n2\n",
        "fd= n1//n2\n",
        "r= n1%n2\n",
        "e= n1**n2\n",
        "print(f\"The sum {n1} and {n2} is {s}\")\n",
        "print(f\"The substraction {n1} and {n2} is {m}\")\n",
        "print(f\"The multiplication of {n1} and {n2} is {mul}\")\n",
        "print(f\"The division {n1} and {n2} is {d}\")\n",
        "print(f\"The floor division {n1} and {n2} is {fd}\")\n",
        "print(f\"The remainder {n1} and {n2} is {r}\")\n",
        "print(f\"The exponent {n1} and {n2} is {e}\")"
      ],
      "metadata": {
        "colab": {
          "base_uri": "https://localhost:8080/"
        },
        "id": "QX6myQPS5my2",
        "outputId": "792355f5-9e4c-4afd-830f-b698cf5d988d"
      },
      "execution_count": 24,
      "outputs": [
        {
          "output_type": "stream",
          "name": "stdout",
          "text": [
            "Enter the number 1 5\n",
            "Enter the number 2 2\n",
            "The sum 5 and 2 is 7\n",
            "The substraction 5 and 2 is 3\n",
            "The multiplication of 5 and 2 is 10\n",
            "The division 5 and 2 is 2.5\n",
            "The floor division 5 and 2 is 2\n",
            "The remainder 5 and 2 is 1\n",
            "The exponent 5 and 2 is 25\n"
          ]
        }
      ]
    },
    {
      "cell_type": "code",
      "source": [
        "#8 Write a program to demonstrate the use of logical operators.\n",
        "n1= int(input(\"Enter the first number \"))\n",
        "n2= int(input(\"Enter the second number \"))\n",
        "if(n1>10 and n2 >20):\n",
        "  print(\"Both conditions are true \")\n",
        "else:\n",
        "  print(\"Atleast one condition is false\")\n",
        "if(n1>10 or n2> 20):\n",
        "  print(\"Atleast one condition is true \")\n",
        "else:\n",
        "  print(\"Both condition is false \")\n",
        "if (n1!= 10):\n",
        "  print(\"Returns true if n1 is not equal to 10 \")\n",
        "else:\n",
        "  print(\"The number is 10\")\n"
      ],
      "metadata": {
        "colab": {
          "base_uri": "https://localhost:8080/"
        },
        "id": "yYTvcoUczIwN",
        "outputId": "1e08039d-b429-4f16-a4de-52bfbfdd6d8b"
      },
      "execution_count": 28,
      "outputs": [
        {
          "output_type": "stream",
          "name": "stdout",
          "text": [
            "Enter the first number 2\n",
            "Enter the second number 5\n",
            "Atleast one condition is false\n",
            "Both condition is false \n",
            "Returns true if n1 is not equal to 10 \n"
          ]
        }
      ]
    },
    {
      "cell_type": "code",
      "source": [
        "# 9. Write a Python program to convert user input from string to integer, float, and boolean types.\n",
        "\n",
        "user_input = input(\"Enter the input \")\n",
        "into_int = int(user_input)\n",
        "into_fl = float(user_input)\n",
        "into_bo = bool(user_input)\n",
        "print(f\"{into_int} , {into_fl} , {into_bo} \")"
      ],
      "metadata": {
        "colab": {
          "base_uri": "https://localhost:8080/"
        },
        "id": "peyWQpSG1s-Y",
        "outputId": "c3d2aac2-d25a-40c9-882b-53b88ccaf5df"
      },
      "execution_count": 29,
      "outputs": [
        {
          "output_type": "stream",
          "name": "stdout",
          "text": [
            "Enter the input 52\n",
            "52 , 52.0 , True \n"
          ]
        }
      ]
    },
    {
      "cell_type": "code",
      "source": [
        "#10. Write code to demonstrate type casting with list elements\n",
        "l1= [\"10\", \"21\", \"34\", \"20\"]\n",
        "l2= [int(x) for x in l1]\n",
        "print(\"orignal list \", l1)\n",
        "print(\"converted to integer list \", l2)"
      ],
      "metadata": {
        "colab": {
          "base_uri": "https://localhost:8080/"
        },
        "id": "Sj2kqAz_23BO",
        "outputId": "2f5b8f15-7e66-4ca4-c6e9-0d24ff1f8a1a"
      },
      "execution_count": 30,
      "outputs": [
        {
          "output_type": "stream",
          "name": "stdout",
          "text": [
            "orignal list  ['10', '21', '34', '20']\n",
            "converted to integer list  [10, 21, 34, 20]\n"
          ]
        }
      ]
    },
    {
      "cell_type": "code",
      "source": [
        "#11. Write a program that checks if a number is positive, negative, or zero\n",
        "n= int(input(\"Enter the number to check \"))\n",
        "if(n>0):\n",
        "  print(\"positive\")\n",
        "elif(n==0):\n",
        "  print(\"zero\")\n",
        "else:\n",
        "  print(\"negative\")\n"
      ],
      "metadata": {
        "colab": {
          "base_uri": "https://localhost:8080/"
        },
        "id": "VEQM-2t835Mq",
        "outputId": "00d65c4a-7cf5-493b-a4ee-206527b52703"
      },
      "execution_count": 34,
      "outputs": [
        {
          "output_type": "stream",
          "name": "stdout",
          "text": [
            "Enter the number to check 25\n",
            "positive\n"
          ]
        }
      ]
    },
    {
      "cell_type": "code",
      "source": [
        "# 12. Write a for loop to print numbers from 1 to 10\n",
        "for i in range (1,11):\n",
        "  print(i)"
      ],
      "metadata": {
        "colab": {
          "base_uri": "https://localhost:8080/"
        },
        "id": "B_SuwJ5B4AKL",
        "outputId": "586b0721-bb18-497c-cf98-bf1f82f29ec5"
      },
      "execution_count": 35,
      "outputs": [
        {
          "output_type": "stream",
          "name": "stdout",
          "text": [
            "1\n",
            "2\n",
            "3\n",
            "4\n",
            "5\n",
            "6\n",
            "7\n",
            "8\n",
            "9\n",
            "10\n"
          ]
        }
      ]
    },
    {
      "cell_type": "code",
      "source": [
        "#13. Write a Python program to find the sum of all even numbers between 1 and 50.\n",
        "s=0\n",
        "for i in range(2,51, 2):\n",
        "  s=s+i\n",
        "print(\"sum of all even numbers between 1 and 50 is \", s)"
      ],
      "metadata": {
        "colab": {
          "base_uri": "https://localhost:8080/"
        },
        "id": "JPafl0404c5Z",
        "outputId": "4f043962-bf8b-4e4e-924c-d143a88f467e"
      },
      "execution_count": 37,
      "outputs": [
        {
          "output_type": "stream",
          "name": "stdout",
          "text": [
            "sum of all even numbers between 1 and 50 is  650\n"
          ]
        }
      ]
    },
    {
      "cell_type": "code",
      "source": [
        "# 14. Write a program to reverse a string using a while loop.\n",
        "s= \"Subhabrata\"\n",
        "i = len(s) -1\n",
        "reverse_s = \"\"\n",
        "while i>=0:\n",
        "  reverse_s= reverse_s + s[i]\n",
        "  i-=1\n",
        "print(reverse_s)"
      ],
      "metadata": {
        "colab": {
          "base_uri": "https://localhost:8080/"
        },
        "id": "MVcl3pKb4vaC",
        "outputId": "6a8ea819-b515-49d7-f11e-f13d1b0ebf95"
      },
      "execution_count": 42,
      "outputs": [
        {
          "output_type": "stream",
          "name": "stdout",
          "text": [
            "atarbahbuS\n"
          ]
        }
      ]
    },
    {
      "cell_type": "code",
      "source": [
        "# 15. Write a Python program to calculate the factorial of a number provided by the user using a while loop\n",
        "f=1\n",
        "n= int(input(\"Enter the number \"))\n",
        "while n>0:\n",
        "  f= f*n\n",
        "  n= n-1\n",
        "print(\"The factorial of the number is \", f)"
      ],
      "metadata": {
        "colab": {
          "base_uri": "https://localhost:8080/"
        },
        "id": "7lV-XMpX5nR-",
        "outputId": "0f53a6e3-8215-410f-c5fa-e463b364e84a"
      },
      "execution_count": 43,
      "outputs": [
        {
          "output_type": "stream",
          "name": "stdout",
          "text": [
            "Enter the number 5\n",
            "The factorial of the number is  120\n"
          ]
        }
      ]
    },
    {
      "cell_type": "code",
      "source": [],
      "metadata": {
        "id": "ooJRd9v_6RBg"
      },
      "execution_count": null,
      "outputs": []
    }
  ]
}